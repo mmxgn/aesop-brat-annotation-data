{
 "cells": [
  {
   "cell_type": "code",
   "execution_count": 9,
   "metadata": {},
   "outputs": [],
   "source": [
    "text_annotation = \"\"\"\n",
    "T2\tCharacter 14 23\tandrocles\n",
    "A1\tGender T2 Male\n",
    "T4\tPlace 69 75\tforest\n",
    "T5\tSound_Effect 86 95\twandering\n",
    "E3\tSound_Effect:T5 CausedBy:T2 HappensIn:T4\n",
    "T3\tSound_Effect 57 61\tfled\n",
    "E2\tSound_Effect:T3 CausedBy:T2 HappensIn:T4\n",
    "T6\tSound_Effect 139 146\tmoaning\n",
    "E4\tSound_Effect:T6 CausedBy:T8 HappensIn:T4\n",
    "T7\tSound_Effect 151 159\tgroaning\n",
    "E5\tSound_Effect:T7 CausedBy:T8 HappensIn:T4\n",
    "T8\tCharacter 123 127\tlion\n",
    "T1\tSound_Effect 512 516\tlick\n",
    "E1\tSound_Effect:T1 CausedBy:T9 HappensIn:T4\n",
    "T9\tCharacter 477 481\tlion\n",
    "*\tRefersToCharacter T9 T8\n",
    "T10\tSound_Effect 428 438\tpulled out\n",
    "E6\tSound_Effect:T10 CausedBy:T2 HappensIn:T4\n",
    "T11\tSound_Effect 989 997\tbounding\n",
    "E7\tSound_Effect:T11 CausedBy:T9 HappensIn:T13\n",
    "T12\tSound_Effect 1002 1009\troaring\n",
    "E8\tSound_Effect:T12 CausedBy:T9 HappensIn:T13\n",
    "T13\tPlace 931 936\tarena\n",
    "T14\tSound_Effect 1119 1125\tlicked\n",
    "E9\tSound_Effect:T14 CausedBy:T9 HappensIn:T13 CausedBy2:E10\n",
    "T15\tSound_Effect 1143 1155\tfriendly dog\n",
    "E10\tSound_Effect:T15 \n",
    "\"\"\"\n",
    "\n",
    "text_text = \"\"\"\n",
    "a slave named androcles once escaped from his master and fled to the forest\n",
    "as he was wandering about there he came upon a lion lying down moaning and groaning\n",
    "at first he turned to flee but finding that the lion did not pursue him he turned back and went up to him\n",
    "as he came near the lion put out his paw which was all swollen and bleeding and androcles found that a huge thorn had got into it and was causing all the pain\n",
    "he pulled out the thorn and bound up the paw of the lion who was soon able to rise and lick the hand of androcles like a dog\n",
    "then the lion took androcles to his cave and every day used to bring him meat from which to live\n",
    "but shortly afterwards both androcles and the lion were captured and the slave was sentenced to be thrown to the lion after the latter had been kept without food for several days\n",
    "the emperor and all his court came to see the spectacle and androcles was led out into the middle of the arena\n",
    "soon the lion was let loose from his den and rushed bounding and roaring towards his victim\n",
    "but as soon as he came near to androcles he recognised his friend and fawned upon him and licked his hands like a friendly dog\n",
    "the emperor surprised at this summoned androcles to him who told him the whole story\n",
    "whereupon the slave was pardoned and freed and the lion let loose to his native forest\n",
    "\"\"\"\n",
    "\n",
    "lemmadict = {\"a\": \"a\", \"slave\": \"slave\", \"named\": \"name\", \"androcles\": \"androcle\", \"once\": \"once\", \"escaped\": \"escape\", \"from\": \"from\", \"his\": \"he\", \"master\": \"master\", \"and\": \"and\", \"fled\": \"flee\", \"to\": \"to\", \"the\": \"the\", \"forest\": \"forest\", \"as\": \"as\", \"he\": \"he\", \"was\": \"be\", \"wandering\": \"wander\", \"about\": \"about\", \"there\": \"there\", \"came\": \"come\", \"upon\": \"upon\", \"lion\": \"lion\", \"lying\": \"lie\", \"down\": \"down\", \"moaning\": \"moan\", \"groaning\": \"groan\", \"at\": \"at\", \"first\": \"first\", \"turned\": \"turn\", \"flee\": \"flee\", \"but\": \"but\", \"finding\": \"find\", \"that\": \"that\", \"did\": \"do\", \"not\": \"not\", \"pursue\": \"pursue\", \"him\": \"he\", \"back\": \"back\", \"went\": \"go\", \"up\": \"up\", \"near\": \"near\", \"put\": \"put\", \"out\": \"out\", \"paw\": \"paw\", \"which\": \"which\", \"all\": \"all\", \"swollen\": \"swollen\", \"bleeding\": \"bleeding\", \"found\": \"find\", \"huge\": \"huge\", \"thorn\": \"thorn\", \"had\": \"have\", \"got\": \"get\", \"into\": \"into\", \"it\": \"it\", \"causing\": \"cause\", \"pain\": \"pain\", \"pulled\": \"pull\", \"bound\": \"bind\", \"of\": \"of\", \"who\": \"who\", \"soon\": \"soon\", \"able\": \"able\", \"rise\": \"rise\", \"lick\": \"lick\", \"hand\": \"hand\", \"like\": \"like\", \"dog\": \"dog\", \"then\": \"then\", \"took\": \"take\", \"cave\": \"cave\", \"every\": \"every\", \"day\": \"day\", \"used\": \"use\", \"bring\": \"bring\", \"meat\": \"meat\", \"live\": \"live\", \"shortly\": \"shortly\", \"afterwards\": \"afterwards\", \"both\": \"both\", \"were\": \"be\", \"captured\": \"capture\", \"sentenced\": \"sentence\", \"be\": \"be\", \"thrown\": \"throw\", \"after\": \"after\", \"latter\": \"latter\", \"been\": \"be\", \"kept\": \"keep\", \"without\": \"without\", \"food\": \"food\", \"for\": \"for\", \"several\": \"several\", \"days\": \"day\", \"emperor\": \"emperor\", \"court\": \"court\", \"see\": \"see\", \"spectacle\": \"spectacle\", \"led\": \"lead\", \"middle\": \"middle\", \"arena\": \"arena\", \"let\": \"let\", \"loose\": \"loose\", \"den\": \"den\", \"rushed\": \"rush\", \"bounding\": \"bound\", \"roaring\": \"roar\", \"towards\": \"towards\", \"victim\": \"victim\", \"recognised\": \"recognise\", \"friend\": \"friend\", \"fawned\": \"fawn\", \"licked\": \"lick\", \"hands\": \"hand\", \"friendly\": \"friendly\", \"surprised\": \"surprise\", \"this\": \"this\", \"summoned\": \"summon\", \"told\": \"tell\", \"whole\": \"whole\", \"story\": \"story\", \"whereupon\": \"whereupon\", \"pardoned\": \"pardon\", \"freed\": \"free\", \"native\": \"native\"}"
   ]
  },
  {
   "cell_type": "code",
   "execution_count": 3,
   "metadata": {},
   "outputs": [],
   "source": [
    "def sentence_no(corpus, char_pos):\n",
    "    # Number of new lines till the beginning of\n",
    "    # file.\n",
    "    \n",
    "    no_nl = 0\n",
    "    for n in range(len(corpus)-1, 0, -1):\n",
    "            if corpus[n] == '\\n':\n",
    "                no_nl += 1\n",
    "                \n",
    "    return no_nl\n",
    "\n",
    "    "
   ]
  },
  {
   "cell_type": "code",
   "execution_count": 10,
   "metadata": {},
   "outputs": [
    {
     "data": {
      "text/plain": [
       "1"
      ]
     },
     "execution_count": 10,
     "metadata": {},
     "output_type": "execute_result"
    }
   ],
   "source": [
    "sentence_no(text_text, 139)"
   ]
  },
  {
   "cell_type": "code",
   "execution_count": 76,
   "metadata": {},
   "outputs": [],
   "source": [
    "import re\n",
    "rels = text_annotation.split('\\n')\n",
    "regexp_entity = re.compile('[A-Z][0-9]+\\s+[A-Z][A-Za-z_]*\\s+[0-9]+\\s+[0-9]+\\s+[a-z]+')\n",
    "regexp_relation = re.compile('[A-Z][0-9]+\\s+([A-Z][A-Za-z_]*:[A-Z][0-9]+\\s*)+')\n",
    "regexp_transitive = re.compile('\\*\\s+[A-Z][A-Za-z_]*\\s+[A-Z][0-9]+\\s[A-Z][0-9]+')"
   ]
  },
  {
   "cell_type": "code",
   "execution_count": 29,
   "metadata": {},
   "outputs": [
    {
     "data": {
      "text/plain": [
       "<_sre.SRE_Match object; span=(0, 28), match='T2\\tCharacter 14 23\\tandrocles'>"
      ]
     },
     "execution_count": 29,
     "metadata": {},
     "output_type": "execute_result"
    }
   ],
   "source": [
    "\n",
    "regexp_entity.match(rels[1])"
   ]
  },
  {
   "cell_type": "code",
   "execution_count": 33,
   "metadata": {},
   "outputs": [
    {
     "data": {
      "text/plain": [
       "'E3\\tSound_Effect:T5 CausedBy:T2 HappensIn:T4'"
      ]
     },
     "execution_count": 33,
     "metadata": {},
     "output_type": "execute_result"
    }
   ],
   "source": [
    "rels[5]"
   ]
  },
  {
   "cell_type": "code",
   "execution_count": 51,
   "metadata": {},
   "outputs": [
    {
     "data": {
      "text/plain": [
       "<_sre.SRE_Match object; span=(0, 1), match=':'>"
      ]
     },
     "execution_count": 51,
     "metadata": {},
     "output_type": "execute_result"
    }
   ],
   "source": [
    "re.match(':',':')\n",
    "#regexp_relation.match(rels[5])"
   ]
  },
  {
   "cell_type": "code",
   "execution_count": 52,
   "metadata": {},
   "outputs": [
    {
     "data": {
      "text/plain": [
       "'E3\\tSound_Effect:T5 CausedBy:T2 HappensIn:T4'"
      ]
     },
     "execution_count": 52,
     "metadata": {},
     "output_type": "execute_result"
    }
   ],
   "source": [
    "rels[5]"
   ]
  },
  {
   "cell_type": "code",
   "execution_count": 67,
   "metadata": {},
   "outputs": [
    {
     "data": {
      "text/plain": [
       "<_sre.SRE_Match object; span=(0, 9), match='E3 Az:T5 '>"
      ]
     },
     "execution_count": 67,
     "metadata": {},
     "output_type": "execute_result"
    }
   ],
   "source": [
    "regexp_relation.match('E3 Az:T5 ')"
   ]
  },
  {
   "cell_type": "code",
   "execution_count": 77,
   "metadata": {},
   "outputs": [
    {
     "data": {
      "text/plain": [
       "'*\\tRefersToCharacter T9 T8'"
      ]
     },
     "execution_count": 77,
     "metadata": {},
     "output_type": "execute_result"
    }
   ],
   "source": [
    "rels[16]"
   ]
  },
  {
   "cell_type": "code",
   "execution_count": 80,
   "metadata": {},
   "outputs": [],
   "source": [
    "regexp_relation.match(rels[16])"
   ]
  },
  {
   "cell_type": "code",
   "execution_count": 90,
   "metadata": {},
   "outputs": [],
   "source": [
    "re.match('\\*\\s+[A-Z][A-Za-z_]\\s+[A-Z][0-9]+\\s+[A-Z][0-9]+','* RefersToCharacter T9 T8')"
   ]
  },
  {
   "cell_type": "code",
   "execution_count": null,
   "metadata": {},
   "outputs": [],
   "source": [
    "relations = ['Sound_Effect', 'Place', 'CausedBy', 'HappensIn', 'CausedBy']"
   ]
  }
 ],
 "metadata": {
  "kernelspec": {
   "display_name": "Python 3",
   "language": "python",
   "name": "python3"
  },
  "language_info": {
   "codemirror_mode": {
    "name": "ipython",
    "version": 3
   },
   "file_extension": ".py",
   "mimetype": "text/x-python",
   "name": "python",
   "nbconvert_exporter": "python",
   "pygments_lexer": "ipython3",
   "version": "3.6.4"
  }
 },
 "nbformat": 4,
 "nbformat_minor": 2
}
