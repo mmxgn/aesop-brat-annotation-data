{
 "cells": [
  {
   "cell_type": "code",
   "execution_count": 1,
   "metadata": {},
   "outputs": [
    {
     "data": {
      "text/html": [
       "<style>.container { width:100% !important; }</style>"
      ],
      "text/plain": [
       "<IPython.core.display.HTML object>"
      ]
     },
     "metadata": {},
     "output_type": "display_data"
    }
   ],
   "source": [
    "from IPython.core.display import display, HTML\n",
    "display(HTML(\"<style>.container { width:100% !important; }</style>\"))"
   ]
  },
  {
   "cell_type": "markdown",
   "metadata": {},
   "source": [
    "## Annotation to JSON "
   ]
  },
  {
   "cell_type": "code",
   "execution_count": 13,
   "metadata": {},
   "outputs": [],
   "source": [
    "import re\n",
    "regexp_entity = re.compile('(?P<variable>[A-Z][0-9]+)\\s+(?P<type>[A-Z][A-Za-z_]*)\\s+([0-9]+)\\s+([0-9]+)(?P<name>(\\s+[A-Za-z\\'\\\"]+)+$)')\n",
    "regexp_attribute = re.compile('(?P<variable>[A-Z][0-9]+)\\s+(?P<type>[A-Z][A-Za-z_]*)\\s+(?P<target_variable>[A-Z][0-9]+)\\s+(?P<value>[A-Za-z]+)')\n",
    "regexp_relation = re.compile('(?P<variable>[A-Z][0-9]+)\\s+(([A-Z][A-Za-z_0-9]*:[A-Z][0-9]\\s*)+)')\n",
    "\n",
    "regexp_transitive = re.compile('(?P<arity>\\*)\\s+(?P<type>[A-Z][A-Za-z_]*)\\s+(?P<refersTo1>[A-Z][0-9]+)\\s+(?P<refersTo2>[A-Z][0-9]+)\\s*')"
   ]
  },
  {
   "cell_type": "code",
   "execution_count": 14,
   "metadata": {},
   "outputs": [
    {
     "name": "stdout",
     "output_type": "stream",
     "text": [
      "T1\tCharacter 0 18\tpatty the milkmaid\n",
      "A1\tGender T1 Female\n",
      "T2\tSays 218 222\tsaid\n",
      "E1\tSays:T2 WHAT:T3 WHO:T1 WHAT2:T4 WHAT3:T5 WHAT4:T6 WHAT5:T7 WHAT6:T8 WHAT7:T9\n",
      "T3\tCharacter_Line 179 217\ti 'll buy some fowls from farmer brown\n",
      "T4\tCharacter_Line 227 302\tand they will lay eggs each morning which i will sell to the parson 's wife\n",
      "T5\tCharacter_Line 303 407\twith the money that i get from the sale of these eggs i 'll buy myself a new dimity frock and a chip hat\n",
      "T6\tCharacter_Line 408 480\tand when i go to market wo n't all the young men come up and speak to me\n",
      "T7\tCharacter_Line 481 512\tpolly shaw will be that jealous\n",
      "T8\tCharacter_Line 513 530\tbut i do n't care\n",
      "T9\tCharacter_Line 531 582\ti shall just look at her and toss my head like this\n"
     ]
    }
   ],
   "source": [
    "text = r\"\"\"patty the milkmaid was going to market carrying her milk in a pail on her head\n",
    "as she went along she began calculating what she would do with the money she would get for the milk\n",
    "i 'll buy some fowls from farmer brown\n",
    "said she\n",
    "and they will lay eggs each morning which i will sell to the parson 's wife\n",
    "with the money that i get from the sale of these eggs i 'll buy myself a new dimity frock and a chip hat\n",
    "and when i go to market wo n't all the young men come up and speak to me\n",
    "polly shaw will be that jealous\n",
    "but i do n't care\n",
    "i shall just look at her and toss my head like this\n",
    "as she spoke she tossed her head back the pail fell off it and all the milk was spilt\n",
    "so she had to go home and tell her mother what had occurred\n",
    "ah my child\n",
    "\"\"\"\n",
    "\n",
    "annotation = r\"\"\"T1\tCharacter 0 18\tpatty the milkmaid\n",
    "A1\tGender T1 Female\n",
    "T2\tSays 218 222\tsaid\n",
    "E1\tSays:T2 WHAT:T3 WHO:T1 WHAT2:T4 WHAT3:T5 WHAT4:T6 WHAT5:T7 WHAT6:T8 WHAT7:T9\n",
    "T3\tCharacter_Line 179 217\ti 'll buy some fowls from farmer brown\n",
    "T4\tCharacter_Line 227 302\tand they will lay eggs each morning which i will sell to the parson 's wife\n",
    "T5\tCharacter_Line 303 407\twith the money that i get from the sale of these eggs i 'll buy myself a new dimity frock and a chip hat\n",
    "T6\tCharacter_Line 408 480\tand when i go to market wo n't all the young men come up and speak to me\n",
    "T7\tCharacter_Line 481 512\tpolly shaw will be that jealous\n",
    "T8\tCharacter_Line 513 530\tbut i do n't care\n",
    "T9\tCharacter_Line 531 582\ti shall just look at her and toss my head like this\"\"\"\n",
    "\n",
    "print(annotation)"
   ]
  },
  {
   "cell_type": "code",
   "execution_count": 15,
   "metadata": {},
   "outputs": [
    {
     "data": {
      "text/plain": [
       "['T1\\tCharacter 0 18\\tpatty the milkmaid',\n",
       " 'A1\\tGender T1 Female',\n",
       " 'T2\\tSays 218 222\\tsaid',\n",
       " 'E1\\tSays:T2 WHAT:T3 WHO:T1 WHAT2:T4 WHAT3:T5 WHAT4:T6 WHAT5:T7 WHAT6:T8 WHAT7:T9',\n",
       " \"T3\\tCharacter_Line 179 217\\ti 'll buy some fowls from farmer brown\",\n",
       " \"T4\\tCharacter_Line 227 302\\tand they will lay eggs each morning which i will sell to the parson 's wife\",\n",
       " \"T5\\tCharacter_Line 303 407\\twith the money that i get from the sale of these eggs i 'll buy myself a new dimity frock and a chip hat\",\n",
       " \"T6\\tCharacter_Line 408 480\\tand when i go to market wo n't all the young men come up and speak to me\",\n",
       " 'T7\\tCharacter_Line 481 512\\tpolly shaw will be that jealous',\n",
       " \"T8\\tCharacter_Line 513 530\\tbut i do n't care\",\n",
       " 'T9\\tCharacter_Line 531 582\\ti shall just look at her and toss my head like this']"
      ]
     },
     "execution_count": 15,
     "metadata": {},
     "output_type": "execute_result"
    }
   ],
   "source": [
    "tups = annotation.split('\\n')\n",
    "tups"
   ]
  },
  {
   "cell_type": "code",
   "execution_count": 26,
   "metadata": {},
   "outputs": [],
   "source": [
    "class Character_Line:\n",
    "    def __init__(self, varname, txt, pos_start, pos_end):\n",
    "        self.varname = varname\n",
    "        self.txt = txt\n",
    "        self.character = None\n",
    "        self.pos =(pos_start, pos_end)\n",
    "        \n",
    "    def set_character(self, character):\n",
    "        self.character = character\n",
    "        \n",
    "    def __str__(self):\n",
    "        return \"{}: {}\".format(self.character.name, self.txt)\n",
    "    \n",
    "    def set_pos(self, start, end):\n",
    "        self.pos = (start, end)\n",
    "        \n",
    "    \n",
    "    def to_json(self):\n",
    "        return {\"type\":\"cast_line\", \"name\":self.character.name, \"line\":self.txt}\n",
    "    \n",
    "class Character:\n",
    "    def __init__(self, varname, name):\n",
    "        self.name = name\n",
    "        self.varname = varname\n",
    "        self.gender = ''\n",
    "        self.age = ''\n",
    "        \n",
    "    def set_gender(self, gender):\n",
    "        self.gender = gender\n",
    "        \n",
    "    def set_age(self, age):\n",
    "        self.age = age\n",
    "        \n",
    "    def __str__(self):\n",
    "        return __repr__(self)\n",
    "    \n",
    "    def __repr__(self):\n",
    "        return \"[{}:{}/{}/{}]\".format(self.varname, self.name, self.gender, self.age)\n",
    "    \n",
    "    def to_json(self):\n",
    "        json_dict = {\"type\":\"cast_definition\", \"name\":self.name}\n",
    "        if self.gender != '':\n",
    "            json_dict['gender'] = self.gender\n",
    "        if self.age != '':\n",
    "            json_dict['age'] = self.age\n",
    "        \n",
    "        return json_dict\n",
    "    "
   ]
  },
  {
   "cell_type": "code",
   "execution_count": 27,
   "metadata": {},
   "outputs": [
    {
     "name": "stdout",
     "output_type": "stream",
     "text": [
      "[('T1', 'Character', '0', '18', '\\tpatty the milkmaid', ' milkmaid')]\n",
      "[]\n",
      "[('T2', 'Says', '218', '222', '\\tsaid', '\\tsaid')]\n",
      "[]\n",
      "[('T3', 'Character_Line', '179', '217', \"\\ti 'll buy some fowls from farmer brown\", ' brown')]\n",
      "[('T4', 'Character_Line', '227', '302', \"\\tand they will lay eggs each morning which i will sell to the parson 's wife\", ' wife')]\n",
      "[('T5', 'Character_Line', '303', '407', \"\\twith the money that i get from the sale of these eggs i 'll buy myself a new dimity frock and a chip hat\", ' hat')]\n",
      "[('T6', 'Character_Line', '408', '480', \"\\tand when i go to market wo n't all the young men come up and speak to me\", ' me')]\n",
      "[('T7', 'Character_Line', '481', '512', '\\tpolly shaw will be that jealous', ' jealous')]\n",
      "[('T8', 'Character_Line', '513', '530', \"\\tbut i do n't care\", ' care')]\n",
      "[('T9', 'Character_Line', '531', '582', '\\ti shall just look at her and toss my head like this', ' this')]\n"
     ]
    }
   ],
   "source": [
    "characters = []\n",
    "character_lines = []\n",
    "\n",
    "\n",
    "def find_character(var):\n",
    "    for c in characters:\n",
    "        if c.varname == var:\n",
    "            return c\n",
    "def find_character_lines(var):\n",
    "    for c in character_lines:\n",
    "        if c.varname == var:\n",
    "            return c\n",
    "        \n",
    "for tup in tups:\n",
    "    #print(tup)\n",
    "    \n",
    "    groups = regexp_entity.findall(tup)\n",
    "    print(groups)\n",
    "    if len(groups) > 0:\n",
    "        if groups[0][1] == 'Character':\n",
    "            # If the entity is a character\n",
    "            characters.append(\n",
    "                Character(groups[0][0].strip(), groups[0][4].strip())\n",
    "            )\n",
    "        elif groups[0][1] == 'Character_Line':\n",
    "            character_lines.append(\n",
    "                Character_Line(groups[0][0].strip(), groups[0][4].strip(), int(groups[0][2]),int(groups[0][3]))\n",
    "            )\n",
    "        continue\n",
    "for tup in tups:\n",
    "    # Attributes and relations\n",
    "    groups = regexp_attribute.findall(tup)\n",
    "    if len(groups) > 0:\n",
    "        if groups[0][1] == 'Gender':\n",
    "            # if \n",
    "            c = find_character(groups[0][2].strip())\n",
    "            c.set_gender(groups[0][3].strip().lower())\n",
    "        elif groups[0][1] == 'Age':\n",
    "            c = find_character(groups[0][2].strip())\n",
    "            c.set_age(groups[0][3].strip().lower())      \n",
    "            \n",
    "for tup in tups:\n",
    "    # Attributes and relations\n",
    "    groups = regexp_relation.findall(tup)\n",
    "    if len(groups) > 0 and groups[0][1][:4] == 'Says':\n",
    "        refs = groups[0][1].split()[1:]\n",
    "        \n",
    "        # Store who and whats\n",
    "        whats = []\n",
    "        who = None\n",
    "        \n",
    "        for ref in refs:\n",
    "            type_, var = ref.split(':')\n",
    "            if type_[:4] == 'WHAT':\n",
    "                whats.append(var)\n",
    "            elif type_[:3] == 'WHO':\n",
    "                who = find_character(var)\n",
    "                \n",
    "        # find character lines:\n",
    "        clines = [find_character_lines(w) for w in whats]\n",
    "        \n",
    "        # Assign characters\n",
    "        for cl in clines:\n",
    "            cl.set_character(who)"
   ]
  },
  {
   "cell_type": "code",
   "execution_count": 7,
   "metadata": {},
   "outputs": [
    {
     "data": {
      "text/plain": [
       "['T3', 'T4', 'T5', 'T6', 'T7', 'T8', 'T9']"
      ]
     },
     "execution_count": 7,
     "metadata": {},
     "output_type": "execute_result"
    }
   ],
   "source": [
    "whats"
   ]
  },
  {
   "cell_type": "code",
   "execution_count": 8,
   "metadata": {},
   "outputs": [],
   "source": [
    "regexp_attribute = re.compile('(?P<variable>[A-Z][0-9]+)\\s+(?P<type>[A-Z][A-Za-z_]*)\\s+(?P<target_variable>[A-Z][0-9]+)\\s+(?P<value>[A-Za-z]+)')\n"
   ]
  },
  {
   "cell_type": "code",
   "execution_count": 21,
   "metadata": {},
   "outputs": [
    {
     "name": "stdout",
     "output_type": "stream",
     "text": [
      "{'type': 'cast_definition', 'name': 'patty the milkmaid', 'gender': 'female'}\n"
     ]
    }
   ],
   "source": [
    "for c in characters:\n",
    "    print(c.to_json())\n"
   ]
  },
  {
   "cell_type": "code",
   "execution_count": 22,
   "metadata": {},
   "outputs": [
    {
     "name": "stdout",
     "output_type": "stream",
     "text": [
      "{'type': 'cast_line', 'name': 'patty the milkmaid', 'line': \"i 'll buy some fowls from farmer brown\"}\n",
      "{'type': 'cast_line', 'name': 'patty the milkmaid', 'line': \"and they will lay eggs each morning which i will sell to the parson 's wife\"}\n",
      "{'type': 'cast_line', 'name': 'patty the milkmaid', 'line': \"with the money that i get from the sale of these eggs i 'll buy myself a new dimity frock and a chip hat\"}\n",
      "{'type': 'cast_line', 'name': 'patty the milkmaid', 'line': \"and when i go to market wo n't all the young men come up and speak to me\"}\n",
      "{'type': 'cast_line', 'name': 'patty the milkmaid', 'line': 'polly shaw will be that jealous'}\n",
      "{'type': 'cast_line', 'name': 'patty the milkmaid', 'line': \"but i do n't care\"}\n",
      "{'type': 'cast_line', 'name': 'patty the milkmaid', 'line': 'i shall just look at her and toss my head like this'}\n"
     ]
    }
   ],
   "source": [
    "for cl in character_lines:\n",
    "    print(cl.to_json())"
   ]
  },
  {
   "cell_type": "code",
   "execution_count": 11,
   "metadata": {},
   "outputs": [
    {
     "data": {
      "text/plain": [
       "[('E1',\n",
       "  'Says:T2 WHAT:T3 WHO:T1 WHAT2:T4 WHAT3:T5 WHAT4:T6 WHAT5:T7 WHAT6:T8 WHAT7:T9',\n",
       "  'WHAT7:T9')]"
      ]
     },
     "execution_count": 11,
     "metadata": {},
     "output_type": "execute_result"
    }
   ],
   "source": [
    "regexp_relation = re.compile('(?P<variable>[A-Z][0-9]+)\\s+(([A-Z][A-Za-z_0-9]*:[A-Z][0-9]\\s*)+)')\n",
    "regexp_relation.findall(\"E1\tSays:T2 WHAT:T3 WHO:T1 WHAT2:T4 WHAT3:T5 WHAT4:T6 WHAT5:T7 WHAT6:T8 WHAT7:T9\")"
   ]
  }
 ],
 "metadata": {
  "kernelspec": {
   "display_name": "Python 3",
   "language": "python",
   "name": "python3"
  },
  "language_info": {
   "codemirror_mode": {
    "name": "ipython",
    "version": 3
   },
   "file_extension": ".py",
   "mimetype": "text/x-python",
   "name": "python",
   "nbconvert_exporter": "python",
   "pygments_lexer": "ipython3",
   "version": "3.6.4"
  }
 },
 "nbformat": 4,
 "nbformat_minor": 2
}
