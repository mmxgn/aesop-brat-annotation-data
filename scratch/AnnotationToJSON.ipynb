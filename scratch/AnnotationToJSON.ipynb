{
 "cells": [
  {
   "cell_type": "markdown",
   "metadata": {},
   "source": [
    "## Annotation to JSON "
   ]
  },
  {
   "cell_type": "code",
   "execution_count": 119,
   "metadata": {},
   "outputs": [],
   "source": [
    "import re\n",
    "regexp_entity = re.compile('(?P<variable>[A-Z][0-9]+)\\s+(?P<type>[A-Z][A-Za-z_]*)\\s+[0-9]+\\s+[0-9]+(?P<name>(\\s+[a-z]+)+$)')\n",
    "regexp_attribute = re.compile('(?P<variable>[A-Z][0-9]+)\\s+(?P<type>[A-Z][A-Za-z_]*)\\s+(?P<target_variable>[A-Z][0-9]+)\\s+(?P<value>[A-Za-z]+)')\n",
    "\n",
    "regexp_relation = re.compile('(?P<variable>[A-Z][0-9]+)\\s+(?P<referers>([A-Z][A-Za-z_]*:[A-Z][0-9]+\\s*)+)')\n",
    "regexp_transitive = re.compile('(?P<arity>\\*)\\s+(?P<type>[A-Z][A-Za-z_]*)\\s+(?P<refersTo1>[A-Z][0-9]+)\\s+(?P<refersTo2>[A-Z][0-9]+)\\s*')"
   ]
  },
  {
   "cell_type": "code",
   "execution_count": 41,
   "metadata": {},
   "outputs": [
    {
     "name": "stdout",
     "output_type": "stream",
     "text": [
      "T1\tCharacter 0 18\tpatty the milkmaid\n",
      "A1\tGender T1 Female\n",
      "T2\tSays 218 222\tsaid\n",
      "E1\tSays:T2 WHAT:T3 WHO:T1 WHAT2:T4 WHAT3:T5 WHAT4:T6 WHAT5:T7 WHAT6:T8 WHAT7:T9\n",
      "T3\tCharacter_Line 179 217\ti 'll buy some fowls from farmer brown\n",
      "T4\tCharacter_Line 227 302\tand they will lay eggs each morning which i will sell to the parson 's wife\n",
      "T5\tCharacter_Line 303 407\twith the money that i get from the sale of these eggs i 'll buy myself a new dimity frock and a chip hat\n",
      "T6\tCharacter_Line 408 480\tand when i go to market wo n't all the young men come up and speak to me\n",
      "T7\tCharacter_Line 481 512\tpolly shaw will be that jealous\n",
      "T8\tCharacter_Line 513 530\tbut i do n't care\n",
      "T9\tCharacter_Line 531 582\ti shall just look at her and toss my head like this\n"
     ]
    }
   ],
   "source": [
    "annotation = r\"\"\"T1\tCharacter 0 18\tpatty the milkmaid\n",
    "A1\tGender T1 Female\n",
    "T2\tSays 218 222\tsaid\n",
    "E1\tSays:T2 WHAT:T3 WHO:T1 WHAT2:T4 WHAT3:T5 WHAT4:T6 WHAT5:T7 WHAT6:T8 WHAT7:T9\n",
    "T3\tCharacter_Line 179 217\ti 'll buy some fowls from farmer brown\n",
    "T4\tCharacter_Line 227 302\tand they will lay eggs each morning which i will sell to the parson 's wife\n",
    "T5\tCharacter_Line 303 407\twith the money that i get from the sale of these eggs i 'll buy myself a new dimity frock and a chip hat\n",
    "T6\tCharacter_Line 408 480\tand when i go to market wo n't all the young men come up and speak to me\n",
    "T7\tCharacter_Line 481 512\tpolly shaw will be that jealous\n",
    "T8\tCharacter_Line 513 530\tbut i do n't care\n",
    "T9\tCharacter_Line 531 582\ti shall just look at her and toss my head like this\"\"\"\n",
    "\n",
    "print(annotation)"
   ]
  },
  {
   "cell_type": "code",
   "execution_count": 42,
   "metadata": {},
   "outputs": [
    {
     "data": {
      "text/plain": [
       "['T1\\tCharacter 0 18\\tpatty the milkmaid',\n",
       " 'A1\\tGender T1 Female',\n",
       " 'T2\\tSays 218 222\\tsaid',\n",
       " 'E1\\tSays:T2 WHAT:T3 WHO:T1 WHAT2:T4 WHAT3:T5 WHAT4:T6 WHAT5:T7 WHAT6:T8 WHAT7:T9',\n",
       " \"T3\\tCharacter_Line 179 217\\ti 'll buy some fowls from farmer brown\",\n",
       " \"T4\\tCharacter_Line 227 302\\tand they will lay eggs each morning which i will sell to the parson 's wife\",\n",
       " \"T5\\tCharacter_Line 303 407\\twith the money that i get from the sale of these eggs i 'll buy myself a new dimity frock and a chip hat\",\n",
       " \"T6\\tCharacter_Line 408 480\\tand when i go to market wo n't all the young men come up and speak to me\",\n",
       " 'T7\\tCharacter_Line 481 512\\tpolly shaw will be that jealous',\n",
       " \"T8\\tCharacter_Line 513 530\\tbut i do n't care\",\n",
       " 'T9\\tCharacter_Line 531 582\\ti shall just look at her and toss my head like this']"
      ]
     },
     "execution_count": 42,
     "metadata": {},
     "output_type": "execute_result"
    }
   ],
   "source": [
    "tups = annotation.split('\\n')\n",
    "tups"
   ]
  },
  {
   "cell_type": "code",
   "execution_count": 137,
   "metadata": {},
   "outputs": [],
   "source": [
    "\n",
    "class Character:\n",
    "    def __init__(self, varname, name):\n",
    "        self.name = name\n",
    "        self.varname = varname\n",
    "        self.gender = ''\n",
    "        self.age = ''\n",
    "        \n",
    "    def set_gender(self, gender):\n",
    "        self.gender = gender\n",
    "        \n",
    "    def set_age(self, age):\n",
    "        self.age = age\n",
    "        \n",
    "    def __str__(self):\n",
    "        return __repr__(self)\n",
    "    \n",
    "    def __repr__(self):\n",
    "        return \"[{}:{}/{}/{}]\".format(self.varname, self.name, self.gender, self.age)\n",
    "    \n",
    "    def to_json(self):\n",
    "        json_dict = {\"type\":\"cast_definition\", \"name\":self.name}\n",
    "        if self.gender != '':\n",
    "            json.dict['gender'] = self.gender\n",
    "        if self.age != '':\n",
    "            json.dict['age'] = self.age\n",
    "        \n",
    "        return json_dict\n",
    "    "
   ]
  },
  {
   "cell_type": "code",
   "execution_count": 138,
   "metadata": {},
   "outputs": [],
   "source": [
    "characters = []\n",
    "\n",
    "def find_character(var):\n",
    "    for c in characters:\n",
    "        if c.varname == var:\n",
    "            return c\n",
    "\n",
    "for tup in tups:\n",
    "    #print(tup)\n",
    "    \n",
    "    groups = regexp_entity.findall(tup)\n",
    "    if len(groups) > 0:\n",
    "        if groups[0][1] == 'Character':\n",
    "            characters.append(\n",
    "                Character(groups[0][0].strip(), groups[0][2].strip())\n",
    "            )\n",
    "            \n",
    "        continue\n",
    "    groups = regexp_attribute.findall(tup)\n",
    "    if len(groups) > 0:\n",
    "        if groups[0][1] == 'Gender':\n",
    "            c = find_character(groups[0][2].strip())\n",
    "            c.set_gender(groups[0][3].strip().lower())\n",
    "        elif groups[0][1] == 'Age':\n",
    "            c = find_character(groups[0][2].strip())\n",
    "            c.set_age(groups[0][3].strip().lower())            "
   ]
  },
  {
   "cell_type": "code",
   "execution_count": 125,
   "metadata": {},
   "outputs": [],
   "source": [
    "regexp_attribute = re.compile('(?P<variable>[A-Z][0-9]+)\\s+(?P<type>[A-Z][A-Za-z_]*)\\s+(?P<target_variable>[A-Z][0-9]+)\\s+(?P<value>[A-Za-z]+)')\n"
   ]
  },
  {
   "cell_type": "code",
   "execution_count": 139,
   "metadata": {},
   "outputs": [
    {
     "ename": "NameError",
     "evalue": "name 'json' is not defined",
     "output_type": "error",
     "traceback": [
      "\u001b[0;31m---------------------------------------------------------------------------\u001b[0m",
      "\u001b[0;31mNameError\u001b[0m                                 Traceback (most recent call last)",
      "\u001b[0;32m<ipython-input-139-5382cee31a4a>\u001b[0m in \u001b[0;36m<module>\u001b[0;34m()\u001b[0m\n\u001b[1;32m      1\u001b[0m \u001b[0;32mfor\u001b[0m \u001b[0mc\u001b[0m \u001b[0;32min\u001b[0m \u001b[0mcharacters\u001b[0m\u001b[0;34m:\u001b[0m\u001b[0;34m\u001b[0m\u001b[0m\n\u001b[0;32m----> 2\u001b[0;31m     \u001b[0mprint\u001b[0m\u001b[0;34m(\u001b[0m\u001b[0mc\u001b[0m\u001b[0;34m.\u001b[0m\u001b[0mto_json\u001b[0m\u001b[0;34m(\u001b[0m\u001b[0;34m)\u001b[0m\u001b[0;34m)\u001b[0m\u001b[0;34m\u001b[0m\u001b[0m\n\u001b[0m",
      "\u001b[0;32m<ipython-input-137-a322257afc2d>\u001b[0m in \u001b[0;36mto_json\u001b[0;34m(self)\u001b[0m\n\u001b[1;32m     22\u001b[0m         \u001b[0mjson_dict\u001b[0m \u001b[0;34m=\u001b[0m \u001b[0;34m{\u001b[0m\u001b[0;34m\"type\"\u001b[0m\u001b[0;34m:\u001b[0m\u001b[0;34m\"cast_definition\"\u001b[0m\u001b[0;34m,\u001b[0m \u001b[0;34m\"name\"\u001b[0m\u001b[0;34m:\u001b[0m\u001b[0mself\u001b[0m\u001b[0;34m.\u001b[0m\u001b[0mname\u001b[0m\u001b[0;34m}\u001b[0m\u001b[0;34m\u001b[0m\u001b[0m\n\u001b[1;32m     23\u001b[0m         \u001b[0;32mif\u001b[0m \u001b[0mself\u001b[0m\u001b[0;34m.\u001b[0m\u001b[0mgender\u001b[0m \u001b[0;34m!=\u001b[0m \u001b[0;34m''\u001b[0m\u001b[0;34m:\u001b[0m\u001b[0;34m\u001b[0m\u001b[0m\n\u001b[0;32m---> 24\u001b[0;31m             \u001b[0mjson\u001b[0m\u001b[0;34m.\u001b[0m\u001b[0mdict\u001b[0m\u001b[0;34m[\u001b[0m\u001b[0;34m'gender'\u001b[0m\u001b[0;34m]\u001b[0m \u001b[0;34m=\u001b[0m \u001b[0mself\u001b[0m\u001b[0;34m.\u001b[0m\u001b[0mgender\u001b[0m\u001b[0;34m\u001b[0m\u001b[0m\n\u001b[0m\u001b[1;32m     25\u001b[0m         \u001b[0;32mif\u001b[0m \u001b[0mself\u001b[0m\u001b[0;34m.\u001b[0m\u001b[0mage\u001b[0m \u001b[0;34m!=\u001b[0m \u001b[0;34m''\u001b[0m\u001b[0;34m:\u001b[0m\u001b[0;34m\u001b[0m\u001b[0m\n\u001b[1;32m     26\u001b[0m             \u001b[0mjson\u001b[0m\u001b[0;34m.\u001b[0m\u001b[0mdict\u001b[0m\u001b[0;34m[\u001b[0m\u001b[0;34m'age'\u001b[0m\u001b[0;34m]\u001b[0m \u001b[0;34m=\u001b[0m \u001b[0mself\u001b[0m\u001b[0;34m.\u001b[0m\u001b[0mage\u001b[0m\u001b[0;34m\u001b[0m\u001b[0m\n",
      "\u001b[0;31mNameError\u001b[0m: name 'json' is not defined"
     ]
    }
   ],
   "source": [
    "for c in characters:\n",
    "    print(c.to_json())\n"
   ]
  }
 ],
 "metadata": {
  "kernelspec": {
   "display_name": "Python 3",
   "language": "python",
   "name": "python3"
  },
  "language_info": {
   "codemirror_mode": {
    "name": "ipython",
    "version": 3
   },
   "file_extension": ".py",
   "mimetype": "text/x-python",
   "name": "python",
   "nbconvert_exporter": "python",
   "pygments_lexer": "ipython3",
   "version": "3.6.4"
  }
 },
 "nbformat": 4,
 "nbformat_minor": 2
}
