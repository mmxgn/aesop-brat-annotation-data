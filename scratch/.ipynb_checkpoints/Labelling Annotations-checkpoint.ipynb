{
 "cells": [
  {
   "cell_type": "code",
   "execution_count": 1,
   "metadata": {},
   "outputs": [],
   "source": [
    "text_annotation = \"\"\"\n",
    "T2\tCharacter 14 23\tandrocles\n",
    "A1\tGender T2 Male\n",
    "T4\tPlace 69 75\tforest\n",
    "T5\tSound_Effect 86 95\twandering\n",
    "E3\tSound_Effect:T5 CausedBy:T2 HappensIn:T4\n",
    "T3\tSound_Effect 57 61\tfled\n",
    "E2\tSound_Effect:T3 CausedBy:T2 HappensIn:T4\n",
    "T6\tSound_Effect 139 146\tmoaning\n",
    "E4\tSound_Effect:T6 CausedBy:T8 HappensIn:T4\n",
    "T7\tSound_Effect 151 159\tgroaning\n",
    "E5\tSound_Effect:T7 CausedBy:T8 HappensIn:T4\n",
    "T8\tCharacter 123 127\tlion\n",
    "T1\tSound_Effect 512 516\tlick\n",
    "E1\tSound_Effect:T1 CausedBy:T9 HappensIn:T4\n",
    "T9\tCharacter 477 481\tlion\n",
    "*\tRefersToCharacter T9 T8\n",
    "T10\tSound_Effect 428 438\tpulled out\n",
    "E6\tSound_Effect:T10 CausedBy:T2 HappensIn:T4\n",
    "T11\tSound_Effect 989 997\tbounding\n",
    "E7\tSound_Effect:T11 CausedBy:T9 HappensIn:T13\n",
    "T12\tSound_Effect 1002 1009\troaring\n",
    "E8\tSound_Effect:T12 CausedBy:T9 HappensIn:T13\n",
    "T13\tPlace 931 936\tarena\n",
    "T14\tSound_Effect 1119 1125\tlicked\n",
    "E9\tSound_Effect:T14 CausedBy:T9 HappensIn:T13 CausedBy2:E10\n",
    "T15\tSound_Effect 1143 1155\tfriendly dog\n",
    "E10\tSound_Effect:T15 \n",
    "\"\"\"\n",
    "\n",
    "text_text = \"\"\"\n",
    "a slave named androcles once escaped from his master and fled to the forest\n",
    "as he was wandering about there he came upon a lion lying down moaning and groaning\n",
    "at first he turned to flee but finding that the lion did not pursue him he turned back and went up to him\n",
    "as he came near the lion put out his paw which was all swollen and bleeding and androcles found that a huge thorn had got into it and was causing all the pain\n",
    "he pulled out the thorn and bound up the paw of the lion who was soon able to rise and lick the hand of androcles like a dog\n",
    "then the lion took androcles to his cave and every day used to bring him meat from which to live\n",
    "but shortly afterwards both androcles and the lion were captured and the slave was sentenced to be thrown to the lion after the latter had been kept without food for several days\n",
    "the emperor and all his court came to see the spectacle and androcles was led out into the middle of the arena\n",
    "soon the lion was let loose from his den and rushed bounding and roaring towards his victim\n",
    "but as soon as he came near to androcles he recognised his friend and fawned upon him and licked his hands like a friendly dog\n",
    "the emperor surprised at this summoned androcles to him who told him the whole story\n",
    "whereupon the slave was pardoned and freed and the lion let loose to his native forest\n",
    "\"\"\"\n",
    "\n",
    "lemmadict = {\"a\": \"a\", \"slave\": \"slave\", \"named\": \"name\", \"androcles\": \"androcle\", \"once\": \"once\", \"escaped\": \"escape\", \"from\": \"from\", \"his\": \"he\", \"master\": \"master\", \"and\": \"and\", \"fled\": \"flee\", \"to\": \"to\", \"the\": \"the\", \"forest\": \"forest\", \"as\": \"as\", \"he\": \"he\", \"was\": \"be\", \"wandering\": \"wander\", \"about\": \"about\", \"there\": \"there\", \"came\": \"come\", \"upon\": \"upon\", \"lion\": \"lion\", \"lying\": \"lie\", \"down\": \"down\", \"moaning\": \"moan\", \"groaning\": \"groan\", \"at\": \"at\", \"first\": \"first\", \"turned\": \"turn\", \"flee\": \"flee\", \"but\": \"but\", \"finding\": \"find\", \"that\": \"that\", \"did\": \"do\", \"not\": \"not\", \"pursue\": \"pursue\", \"him\": \"he\", \"back\": \"back\", \"went\": \"go\", \"up\": \"up\", \"near\": \"near\", \"put\": \"put\", \"out\": \"out\", \"paw\": \"paw\", \"which\": \"which\", \"all\": \"all\", \"swollen\": \"swollen\", \"bleeding\": \"bleeding\", \"found\": \"find\", \"huge\": \"huge\", \"thorn\": \"thorn\", \"had\": \"have\", \"got\": \"get\", \"into\": \"into\", \"it\": \"it\", \"causing\": \"cause\", \"pain\": \"pain\", \"pulled\": \"pull\", \"bound\": \"bind\", \"of\": \"of\", \"who\": \"who\", \"soon\": \"soon\", \"able\": \"able\", \"rise\": \"rise\", \"lick\": \"lick\", \"hand\": \"hand\", \"like\": \"like\", \"dog\": \"dog\", \"then\": \"then\", \"took\": \"take\", \"cave\": \"cave\", \"every\": \"every\", \"day\": \"day\", \"used\": \"use\", \"bring\": \"bring\", \"meat\": \"meat\", \"live\": \"live\", \"shortly\": \"shortly\", \"afterwards\": \"afterwards\", \"both\": \"both\", \"were\": \"be\", \"captured\": \"capture\", \"sentenced\": \"sentence\", \"be\": \"be\", \"thrown\": \"throw\", \"after\": \"after\", \"latter\": \"latter\", \"been\": \"be\", \"kept\": \"keep\", \"without\": \"without\", \"food\": \"food\", \"for\": \"for\", \"several\": \"several\", \"days\": \"day\", \"emperor\": \"emperor\", \"court\": \"court\", \"see\": \"see\", \"spectacle\": \"spectacle\", \"led\": \"lead\", \"middle\": \"middle\", \"arena\": \"arena\", \"let\": \"let\", \"loose\": \"loose\", \"den\": \"den\", \"rushed\": \"rush\", \"bounding\": \"bound\", \"roaring\": \"roar\", \"towards\": \"towards\", \"victim\": \"victim\", \"recognised\": \"recognise\", \"friend\": \"friend\", \"fawned\": \"fawn\", \"licked\": \"lick\", \"hands\": \"hand\", \"friendly\": \"friendly\", \"surprised\": \"surprise\", \"this\": \"this\", \"summoned\": \"summon\", \"told\": \"tell\", \"whole\": \"whole\", \"story\": \"story\", \"whereupon\": \"whereupon\", \"pardoned\": \"pardon\", \"freed\": \"free\", \"native\": \"native\"}"
   ]
  },
  {
   "cell_type": "code",
   "execution_count": 11,
   "metadata": {},
   "outputs": [],
   "source": [
    "def sentence_no(corpus, char_pos):\n",
    "    # Number of new lines till the beginning of\n",
    "    # file.\n",
    "    \n",
    "    no_nl = 0\n",
    "    for n in range(char_pos, 0, -1):\n",
    "            if corpus[n] in ['\\n', '\\r\\n']:\n",
    "                no_nl += 1\n",
    "                \n",
    "    return no_nl\n",
    "\n",
    "    "
   ]
  },
  {
   "cell_type": "code",
   "execution_count": 13,
   "metadata": {},
   "outputs": [
    {
     "data": {
      "text/plain": [
       "1"
      ]
     },
     "execution_count": 13,
     "metadata": {},
     "output_type": "execute_result"
    }
   ],
   "source": [
    "sentence_no(text_text, 139)"
   ]
  },
  {
   "cell_type": "code",
   "execution_count": null,
   "metadata": {},
   "outputs": [],
   "source": [
    "text_text[n]"
   ]
  },
  {
   "cell_type": "code",
   "execution_count": 5,
   "metadata": {},
   "outputs": [
    {
     "data": {
      "text/plain": [
       "1329"
      ]
     },
     "execution_count": 5,
     "metadata": {},
     "output_type": "execute_result"
    }
   ],
   "source": [
    "len(text_text)"
   ]
  },
  {
   "cell_type": "code",
   "execution_count": 88,
   "metadata": {},
   "outputs": [],
   "source": [
    "import re\n",
    "rels = text_annotation.split('\\n')\n",
    "regexp_entity = re.compile('(?P<variable>[A-Z][0-9]+)\\s+(?P<type>[A-Z][A-Za-z_]*)\\s+[0-9]+\\s+[0-9]+\\s+[a-z]+')\n",
    "regexp_relation = re.compile('(?P<variable>[A-Z][0-9]+)\\s+(?P<referers>([A-Z][A-Za-z_]*:[A-Z][0-9]+\\s*)+)')\n",
    "regexp_transitive = re.compile('(?P<arity>\\*)\\s+(?P<type>[A-Z][A-Za-z_]*)\\s+(?P<refersTo1>[A-Z][0-9]+)\\s+(?P<refersTo2>[A-Z][0-9]+)\\s*')"
   ]
  },
  {
   "cell_type": "code",
   "execution_count": 100,
   "metadata": {},
   "outputs": [
    {
     "name": "stdout",
     "output_type": "stream",
     "text": [
      "T2\tCharacter 14 23\tandrocles -> character(androcles)\n",
      "T4\tPlace 69 75\tforest -> place(forest)\n",
      "T5\tSound_Effect 86 95\twandering -> sound_effect(wandering)\n",
      "E3\tSound_Effect:T5 CausedBy:T2 HappensIn:T4 -> Relation\n",
      "T3\tSound_Effect 57 61\tfled -> sound_effect(fled)\n",
      "E2\tSound_Effect:T3 CausedBy:T2 HappensIn:T4 -> Relation\n",
      "T6\tSound_Effect 139 146\tmoaning -> sound_effect(moaning)\n",
      "E4\tSound_Effect:T6 CausedBy:T8 HappensIn:T4 -> Relation\n",
      "T7\tSound_Effect 151 159\tgroaning -> sound_effect(groaning)\n",
      "E5\tSound_Effect:T7 CausedBy:T8 HappensIn:T4 -> Relation\n",
      "T8\tCharacter 123 127\tlion -> character(lion)\n",
      "T1\tSound_Effect 512 516\tlick -> sound_effect(lick)\n",
      "E1\tSound_Effect:T1 CausedBy:T9 HappensIn:T4 -> Relation\n",
      "T9\tCharacter 477 481\tlion -> character(lion)\n",
      "*\tRefersToCharacter T9 T8 -> Transitive relation\n",
      "T10\tSound_Effect 428 438\tpulled out -> sound_effect(pulled)\n",
      "E6\tSound_Effect:T10 CausedBy:T2 HappensIn:T4 -> Relation\n",
      "T11\tSound_Effect 989 997\tbounding -> sound_effect(bounding)\n",
      "E7\tSound_Effect:T11 CausedBy:T9 HappensIn:T13 -> Relation\n",
      "T12\tSound_Effect 1002 1009\troaring -> sound_effect(roaring)\n",
      "E8\tSound_Effect:T12 CausedBy:T9 HappensIn:T13 -> Relation\n",
      "T13\tPlace 931 936\tarena -> place(arena)\n",
      "T14\tSound_Effect 1119 1125\tlicked -> sound_effect(licked)\n",
      "E9\tSound_Effect:T14 CausedBy:T9 HappensIn:T13 CausedBy2:E10 -> Relation\n",
      "T15\tSound_Effect 1143 1155\tfriendly dog -> sound_effect(friendly)\n",
      "E10\tSound_Effect:T15  -> Relation\n",
      "{'T2': 'androcles', 'T4': 'forest', 'T5': 'wandering', 'T3': 'fled', 'T6': 'moaning', 'T7': 'groaning', 'T8': 'lion', 'T1': 'lick', 'T10': 'pulled', 'T11': 'bounding', 'T12': 'roaring', 'T13': 'arena', 'T14': 'licked', 'T15': 'friendly'}\n",
      "None\n"
     ]
    }
   ],
   "source": [
    "def parse_annotations(annot):\n",
    "    variable_to_object = {}\n",
    "    \n",
    "    def parse_annotation(annot):\n",
    "        if regexp_entity.match(annot):\n",
    "            groupdict = next(regexp_entity.finditer(annot)).groupdict()\n",
    "            relname = groupdict['type'].lower()\n",
    "            str_ = \"{}({})\".format(relname, groupdict['object'])\n",
    "            print(\"{} -> {}\".format(annot, str_))\n",
    "            \n",
    "            variable_to_object[groupdict['variable']] = groupdict['object']\n",
    "            object_to_variable[groupdict['object']] = groupdict['variable']\n",
    "            \n",
    "            \n",
    "        elif regexp_relation.match(annot):\n",
    "            print(\"{} -> Relation\".format(annot))\n",
    "        elif regexp_transitive.match(annot):\n",
    "            print(\"{} -> Transitive relation\".format(annot))\n",
    "            \n",
    "            \n",
    "    rels = annot.split('\\n')\n",
    "    regexp_entity = re.compile('(?P<variable>[A-Z][0-9]+)\\s+(?P<type>[A-Z][A-Za-z_]*)\\s+(?P<start>[0-9]+)\\s+(?P<stop>[0-9]+)\\s+(?P<object>[a-z]+)')\n",
    "    regexp_relation = re.compile('(?P<variable>[A-Z][0-9]+)\\s+(?P<referers>([A-Z][A-Za-z_]*:[A-Z][0-9]+\\s*)+)')\n",
    "    regexp_transitive = re.compile('(?P<arity>\\*)\\s+(?P<type>[A-Z][A-Za-z_]*)\\s+(?P<refersTo1>[A-Z][0-9]+)\\s+(?P<refersTo2>[A-Z][0-9]+)\\s*')    \n",
    "    \n",
    "    for rel in rels:\n",
    "        parse_annotation(rel)\n",
    "        \n",
    "    print(variable_to_object)\n",
    "print(parse_annotations(text_annotation))\n",
    "    "
   ]
  },
  {
   "cell_type": "code",
   "execution_count": 89,
   "metadata": {},
   "outputs": [
    {
     "name": "stdout",
     "output_type": "stream",
     "text": [
      "T2\tCharacter 14 23\tandrocles\n"
     ]
    },
    {
     "data": {
      "text/plain": [
       "<_sre.SRE_Match object; span=(0, 28), match='T2\\tCharacter 14 23\\tandrocles'>"
      ]
     },
     "execution_count": 89,
     "metadata": {},
     "output_type": "execute_result"
    }
   ],
   "source": [
    "print(rels[1])\n",
    "regexp_entity.match(rels[1])"
   ]
  },
  {
   "cell_type": "code",
   "execution_count": 33,
   "metadata": {},
   "outputs": [
    {
     "data": {
      "text/plain": [
       "'E3\\tSound_Effect:T5 CausedBy:T2 HappensIn:T4'"
      ]
     },
     "execution_count": 33,
     "metadata": {},
     "output_type": "execute_result"
    }
   ],
   "source": [
    "rels[5]"
   ]
  },
  {
   "cell_type": "code",
   "execution_count": 51,
   "metadata": {},
   "outputs": [
    {
     "data": {
      "text/plain": [
       "<_sre.SRE_Match object; span=(0, 1), match=':'>"
      ]
     },
     "execution_count": 51,
     "metadata": {},
     "output_type": "execute_result"
    }
   ],
   "source": [
    "re.match(':',':')\n",
    "#regexp_relation.match(rels[5])"
   ]
  },
  {
   "cell_type": "code",
   "execution_count": 52,
   "metadata": {},
   "outputs": [
    {
     "data": {
      "text/plain": [
       "'E3\\tSound_Effect:T5 CausedBy:T2 HappensIn:T4'"
      ]
     },
     "execution_count": 52,
     "metadata": {},
     "output_type": "execute_result"
    }
   ],
   "source": [
    "rels[5]"
   ]
  },
  {
   "cell_type": "code",
   "execution_count": 67,
   "metadata": {},
   "outputs": [
    {
     "data": {
      "text/plain": [
       "<_sre.SRE_Match object; span=(0, 9), match='E3 Az:T5 '>"
      ]
     },
     "execution_count": 67,
     "metadata": {},
     "output_type": "execute_result"
    }
   ],
   "source": [
    "regexp_relation.match('E3 Az:T5 ')"
   ]
  },
  {
   "cell_type": "code",
   "execution_count": 69,
   "metadata": {},
   "outputs": [],
   "source": [
    "itern = regexp_relation.finditer(rels[5])"
   ]
  },
  {
   "cell_type": "code",
   "execution_count": 70,
   "metadata": {},
   "outputs": [
    {
     "name": "stdout",
     "output_type": "stream",
     "text": [
      "<_sre.SRE_Match object; span=(0, 43), match='E3\\tSound_Effect:T5 CausedBy:T2 HappensIn:T4'>\n"
     ]
    },
    {
     "ename": "AttributeError",
     "evalue": "'NoneType' object has no attribute 'groupdict'",
     "output_type": "error",
     "traceback": [
      "\u001b[0;31m---------------------------------------------------------------------------\u001b[0m",
      "\u001b[0;31mAttributeError\u001b[0m                            Traceback (most recent call last)",
      "\u001b[0;32m<ipython-input-70-983b19ba3e5e>\u001b[0m in \u001b[0;36m<module>\u001b[0;34m()\u001b[0m\n\u001b[1;32m      1\u001b[0m \u001b[0;32mfor\u001b[0m \u001b[0mi\u001b[0m \u001b[0;32min\u001b[0m \u001b[0mitern\u001b[0m\u001b[0;34m:\u001b[0m\u001b[0;34m\u001b[0m\u001b[0m\n\u001b[0;32m----> 2\u001b[0;31m     \u001b[0mprint\u001b[0m\u001b[0;34m(\u001b[0m\u001b[0mi\u001b[0m\u001b[0;34m)\u001b[0m\u001b[0;34m.\u001b[0m\u001b[0mgroupdict\u001b[0m\u001b[0;34m(\u001b[0m\u001b[0;34m)\u001b[0m\u001b[0;34m\u001b[0m\u001b[0m\n\u001b[0m",
      "\u001b[0;31mAttributeError\u001b[0m: 'NoneType' object has no attribute 'groupdict'"
     ]
    }
   ],
   "source": [
    "for i in itern:\n",
    "    print(i).groupdict()"
   ]
  },
  {
   "cell_type": "code",
   "execution_count": 52,
   "metadata": {},
   "outputs": [
    {
     "data": {
      "text/plain": [
       "<_sre.SRE_Match object; span=(0, 25), match='*\\tRefersToCharacter T9 T8'>"
      ]
     },
     "execution_count": 52,
     "metadata": {},
     "output_type": "execute_result"
    }
   ],
   "source": [
    "regexp_transitive.match(rels[16])"
   ]
  },
  {
   "cell_type": "code",
   "execution_count": 53,
   "metadata": {},
   "outputs": [
    {
     "data": {
      "text/plain": [
       "{'arity': '*',\n",
       " 'refersTo1': 'T9',\n",
       " 'refersTo2': 'T8',\n",
       " 'variable': 'RefersToCharacter'}"
      ]
     },
     "execution_count": 53,
     "metadata": {},
     "output_type": "execute_result"
    }
   ],
   "source": [
    "next(regexp_transitive.finditer(rels[16])).groupdict()"
   ]
  },
  {
   "cell_type": "code",
   "execution_count": 40,
   "metadata": {},
   "outputs": [
    {
     "name": "stdout",
     "output_type": "stream",
     "text": [
      "<_sre.SRE_Match object; span=(0, 25), match='*\\tRefersToCharacter T9 T8'>\n"
     ]
    }
   ],
   "source": []
  },
  {
   "cell_type": "code",
   "execution_count": 54,
   "metadata": {},
   "outputs": [
    {
     "data": {
      "text/plain": [
       "<_sre.SRE_Match object; span=(0, 26), match='* RefersToCharacter T9 T8 '>"
      ]
     },
     "execution_count": 54,
     "metadata": {},
     "output_type": "execute_result"
    }
   ],
   "source": [
    "re.match('(?P<arity>\\*)\\s+(?P<variable>[A-Z][A-Za-z_]+)\\s+[A-Z][0-9]+\\s+[A-Z][0-9]+\\s*','* RefersToCharacter T9 T8 ')"
   ]
  },
  {
   "cell_type": "code",
   "execution_count": null,
   "metadata": {},
   "outputs": [],
   "source": []
  },
  {
   "cell_type": "code",
   "execution_count": 23,
   "metadata": {},
   "outputs": [
    {
     "data": {
      "text/plain": [
       "<_sre.SRE_Match object; span=(0, 6), match='* Ref '>"
      ]
     },
     "execution_count": 23,
     "metadata": {},
     "output_type": "execute_result"
    }
   ],
   "source": [
    "re.match('\\*\\s+[A-Z][A-Za-z_]+\\s+','* Ref ')"
   ]
  },
  {
   "cell_type": "code",
   "execution_count": null,
   "metadata": {},
   "outputs": [],
   "source": [
    "relations = ['Sound_Effect', 'Place', 'CausedBy', 'HappensIn', 'CausedBy']"
   ]
  }
 ],
 "metadata": {
  "kernelspec": {
   "display_name": "Python 3",
   "language": "python",
   "name": "python3"
  },
  "language_info": {
   "codemirror_mode": {
    "name": "ipython",
    "version": 3
   },
   "file_extension": ".py",
   "mimetype": "text/x-python",
   "name": "python",
   "nbconvert_exporter": "python",
   "pygments_lexer": "ipython3",
   "version": "3.6.4"
  }
 },
 "nbformat": 4,
 "nbformat_minor": 2
}
